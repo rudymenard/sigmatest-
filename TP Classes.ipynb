{
 "cells": [
  {
   "cell_type": "markdown",
   "metadata": {},
   "source": [
    "#  TP Creation de classes et modules"
   ]
  },
  {
   "cell_type": "markdown",
   "metadata": {},
   "source": [
    " "
   ]
  },
  {
   "cell_type": "code",
   "execution_count": 1,
   "metadata": {
    "collapsed": false
   },
   "outputs": [
    {
     "data": {
      "text/html": [
       "<style>.container { width:100% !important; }</style>"
      ],
      "text/plain": [
       "<IPython.core.display.HTML object>"
      ]
     },
     "metadata": {},
     "output_type": "display_data"
    }
   ],
   "source": [
    "# import used packages\n",
    "import numpy as np\n",
    "import pickle # save and load binary files (data, model)\n",
    "import matplotlib.pyplot as plt\n",
    "\n",
    "# Set jupyter display in full screen\n",
    "from IPython.core.display import display, HTML\n",
    "display(HTML(\"<style>.container { width:100% !important; }</style>\"))"
   ]
  },
  {
   "cell_type": "code",
   "execution_count": 2,
   "metadata": {
    "collapsed": false
   },
   "outputs": [],
   "source": [
    "class FileManager:\n",
    "    \"\"\"Import des données\"\"\"\n",
    "        \n",
    "    # function to import and export data from cPickle format\n",
    "    def unpickle(self, file):\n",
    "        with open(file, 'rb') as fo:\n",
    "            dict = pickle.load(fo, encoding='bytes')\n",
    "        return dict\n",
    "\n",
    "    #fonction pour enregistrer un objet en .pkl\n",
    "    def save_obj(self, obj, name):\n",
    "        with open('export/' + name + '.pkl', 'wb') as f:\n",
    "            pickle.dump(obj, f, pickle.HIGHEST_PROTOCOL)\n",
    "    \n",
    "    #import, créer les attribu data et labels\n",
    "    def __init__(self, data, labels):\n",
    "        self.data = self.unpickle(data)\n",
    "        self.labels = self.unpickle(labels)\n",
    "        \n",
    "        \n",
    "        \n",
    "        \n",
    "class DescenteGradient(FileManager):\n",
    "    \"\"\"Méthode de la descente de gradient\"\"\"\n",
    "    \n",
    "    #mettre biai = 0 si l'on ne veut pas de biai\n",
    "    def __init__(self, data, labels, biai = 1):\n",
    "        self.biai = biai\n",
    "        FileManager.__init__(self, data, labels)\n",
    "        \n",
    "    #défini le model utilisé (ici une regression linéaire)\n",
    "    def _model(self, x, theta2):\n",
    "        y_chap=np.dot(x,theta2)\n",
    "        return(y_chap)\n",
    "\n",
    "    #défini la fonction de coût\n",
    "    def _cout(self, y2 ,x, theta2):\n",
    "        mc = sum((self._model(x,theta2)-y2)**2)/(2*len(y2))\n",
    "        return(mc)\n",
    "\n",
    "    #défini la dérivée de la fonction de coût pour notre modèle\n",
    "    def _df(self, y2, x, theta2):\n",
    "        d = np.dot((self._model(x,theta2)-y2),x)/len(y2)\n",
    "        return(d)\n",
    "\n",
    "    #permet d'ajouter ou non une colonne de 1 pour consituter le biai\n",
    "    def _biai_ajout(self):\n",
    "        if self.biai == 1:\n",
    "            self.data = np.hstack([self.data,np.ones((self.data.shape[0],1))])\n",
    "\n",
    "    #méthode de la descente\n",
    "    def descente(self, alpha = 10**(-9), eps = 0.00001):\n",
    "        self._biai_ajout()\n",
    "        cout1 = 2\n",
    "        cout2 = 1\n",
    "        theta = np.random.random(self.data.shape[1])\n",
    "        histo = []\n",
    "        while np.abs(cout1-cout2)/cout2>eps:\n",
    "            theta  = theta -alpha*self._df(self.labels,self.data,theta)\n",
    "            cout1 = cout2\n",
    "            cout2 = self._cout(self.labels,self.data,theta)\n",
    "            histo.append(cout2)\n",
    "        self.histo = histo\n",
    "        self.theta = theta\n",
    "        print(self.theta)\n",
    "\n",
    "    #permet d'afficher l'historique de la fonction de coût\n",
    "    def affichage_histo(self):\n",
    "        fig, ax = plt.subplots(figsize=(16,8))\n",
    "        plt.plot(range(201,len(self.histo)+1),self.histo[200:])\n",
    "        plt.ylabel(\"coût\")\n",
    "        plt.xlabel(\"itérations\")\n",
    "        plt.show()\n",
    "        \n",
    "    #permet de predire avec un nouveau jeu de donnée \n",
    "    def predict(self, new_data):\n",
    "        self.new_theta = self.model(new_data, self.theta)"
   ]
  },
  {
   "cell_type": "code",
   "execution_count": 3,
   "metadata": {
    "collapsed": true
   },
   "outputs": [],
   "source": [
    "# Importer les données dans des array numpy (2 fichiers: features et labels). Utiliser les fonctions de pickle définies plus haut. \n",
    "# Regarder les dimensions des données.\n",
    "featuresFile = 'Sigma_features.pkl'\n",
    "labelFile = 'Sigma_labels.pkl'"
   ]
  },
  {
   "cell_type": "code",
   "execution_count": 4,
   "metadata": {
    "collapsed": false
   },
   "outputs": [],
   "source": [
    "test = DescenteGradient(featuresFile,labelFile)"
   ]
  },
  {
   "cell_type": "code",
   "execution_count": 5,
   "metadata": {
    "collapsed": false
   },
   "outputs": [
    {
     "name": "stdout",
     "output_type": "stream",
     "text": [
      "[-0.054986402965631016 0.012004622760215126 0.0730995290600586\n",
      " 0.014118210791939178 0.18884273843300434 0.8559841345878625\n",
      " 0.38060858077425114 0.731023366422348 0.7742497729835219\n",
      " 0.18957271483957255 0.8570560739466857 0.26627650940785796\n",
      " 0.7374233246869046 0.8710139225860818 0.9062862436588675\n",
      " 0.10305012287638829 0.17738624445319714 0.18513737826876447\n",
      " 0.600918793796206 0.7131838637947359 0.013103128152671782\n",
      " 0.547445169124783 0.5532942484589061 0.9272251018708565 0.9709896621733421\n",
      " 0.5819283617322962 0.9843390509560612 0.5514095466012795\n",
      " 0.6947479294581388 0.3776534550423802 0.17613048110449225\n",
      " 0.48977748380231195 0.828840562704371]\n"
     ]
    }
   ],
   "source": [
    "test.descente()"
   ]
  },
  {
   "cell_type": "code",
   "execution_count": 6,
   "metadata": {
    "collapsed": false
   },
   "outputs": [
    {
     "data": {
      "image/png": "[encoded data removed]",
      "text/plain": [
       "<matplotlib.figure.Figure at 0x7e8c7f0>"
      ]
     },
     "metadata": {},
     "output_type": "display_data"
    }
   ],
   "source": [
    "test.affichage_histo()"
   ]
  }
 ],
 "metadata": {
  "kernelspec": {
   "display_name": "Python 3",
   "language": "python",
   "name": "python3"
  },
  "language_info": {
   "codemirror_mode": {
    "name": "ipython",
    "version": 3
   },
   "file_extension": ".py",
   "mimetype": "text/x-python",
   "name": "python",
   "nbconvert_exporter": "python",
   "pygments_lexer": "ipython3",
   "version": "3.6.0"
  }
 },
 "nbformat": 4,
 "nbformat_minor": 2
}
