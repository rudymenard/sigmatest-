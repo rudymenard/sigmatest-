{
 "cells": [
  {
   "cell_type": "code",
   "execution_count": 1,
   "metadata": {
    "collapsed": false
   },
   "outputs": [
    {
     "data": {
      "text/html": [
       "<style>.container { width:100% !important; }</style>"
      ],
      "text/plain": [
       "<IPython.core.display.HTML object>"
      ]
     },
     "metadata": {},
     "output_type": "display_data"
    }
   ],
   "source": [
    "# import used packages\n",
    "import numpy as np\n",
    "import pickle # save and load binary files (data, model)\n",
    "import matplotlib.pyplot as plt\n",
    "\n",
    "# Set jupyter display in full screen\n",
    "from IPython.core.display import display, HTML\n",
    "display(HTML(\"<style>.container { width:100% !important; }</style>\"))"
   ]
  },
  {
   "cell_type": "code",
   "execution_count": 2,
   "metadata": {
    "collapsed": true
   },
   "outputs": [],
   "source": [
    "# function to import and export data from cPickle format\n",
    "def unpickle(file):\n",
    "    with open(file, 'rb') as fo:\n",
    "        dict = pickle.load(fo, encoding='bytes')\n",
    "    return dict\n",
    "\n",
    "def save_obj(obj, name):\n",
    "    with open('export/' + name + '.pkl', 'wb') as f:\n",
    "        pickle.dump(obj, f, pickle.HIGHEST_PROTOCOL)"
   ]
  },
  {
   "cell_type": "code",
   "execution_count": 3,
   "metadata": {
    "collapsed": true
   },
   "outputs": [],
   "source": [
    "# Importer les données dans des array numpy (2 fichiers: features et labels). Utiliser les fonctions de pickle définies plus haut. \n",
    "# Regarder les dimensions des données.\n",
    "featuresFile = 'Sigma_features.pkl'\n",
    "labelFile = 'Sigma_labels.pkl'"
   ]
  },
  {
   "cell_type": "markdown",
   "metadata": {},
   "source": [
    " "
   ]
  },
  {
   "cell_type": "markdown",
   "metadata": {},
   "source": [
    "\n",
    "Importation des données"
   ]
  },
  {
   "cell_type": "code",
   "execution_count": 4,
   "metadata": {
    "collapsed": false
   },
   "outputs": [],
   "source": [
    "data=unpickle(featuresFile)"
   ]
  },
  {
   "cell_type": "code",
   "execution_count": 5,
   "metadata": {
    "collapsed": true
   },
   "outputs": [],
   "source": [
    "y=unpickle(labelFile)"
   ]
  },
  {
   "cell_type": "markdown",
   "metadata": {},
   "source": [
    " "
   ]
  },
  {
   "cell_type": "markdown",
   "metadata": {},
   "source": [
    "Observations rapides (regader les dimensions des données)"
   ]
  },
  {
   "cell_type": "code",
   "execution_count": 6,
   "metadata": {
    "collapsed": false
   },
   "outputs": [
    {
     "data": {
      "text/plain": [
       "array([[625.0, 1.0, 64, ..., 1, 0, 0.0],\n",
       "       [625.0, 1.0, 64, ..., 1, 0, 0.0],\n",
       "       [954.0, 1.0, 64, ..., 0, 1, 0.0],\n",
       "       ..., \n",
       "       [1406.0, 8.0, 2048, ..., 0, 1, 271.0],\n",
       "       [1582.0, 11.0, 352, ..., 0, 1, 113.0],\n",
       "       [1423.0, 8.0, 2048, ..., 0, 1, 188.0]], dtype=object)"
      ]
     },
     "execution_count": 6,
     "metadata": {},
     "output_type": "execute_result"
    }
   ],
   "source": [
    "data"
   ]
  },
  {
   "cell_type": "code",
   "execution_count": 7,
   "metadata": {
    "collapsed": false
   },
   "outputs": [
    {
     "data": {
      "text/plain": [
       "7616"
      ]
     },
     "execution_count": 7,
     "metadata": {},
     "output_type": "execute_result"
    }
   ],
   "source": [
    "data.size"
   ]
  },
  {
   "cell_type": "code",
   "execution_count": 8,
   "metadata": {
    "collapsed": false
   },
   "outputs": [
    {
     "data": {
      "text/plain": [
       "(238, 32)"
      ]
     },
     "execution_count": 8,
     "metadata": {},
     "output_type": "execute_result"
    }
   ],
   "source": [
    "data.shape #matrice 238 par 32"
   ]
  },
  {
   "cell_type": "code",
   "execution_count": 9,
   "metadata": {
    "collapsed": false
   },
   "outputs": [
    {
     "data": {
      "text/plain": [
       "array([0, 0, 1, 0, 1, 1, 1, 0, 0, 0, 1, 0, 1, 1, 0, 0, 0, 1, 0, 1, 1, 1, 0,\n",
       "       1, 1, 1, 1, 1, 1, 1, 1, 1, 1, 1, 1, 1, 1, 1, 1, 1, 1, 1, 1, 1, 1, 1,\n",
       "       1, 1, 1, 1, 1, 1, 1, 1, 1, 1, 1, 1, 1, 1, 1, 1, 1, 1, 1, 1, 1, 1, 1,\n",
       "       1, 1, 1, 1, 1, 1, 1, 1, 1, 1, 1, 1, 1, 1, 1, 1, 1, 1, 1, 1, 1, 1, 1,\n",
       "       1, 1, 1, 1, 1, 1, 1, 1, 1, 1, 1, 1, 1, 1, 1, 1, 1, 1, 1, 1, 1, 1, 1,\n",
       "       1, 1, 1, 1, 1, 1, 1, 1, 1, 1, 1, 1, 1, 1, 1, 1, 1, 1, 1, 1, 1, 1, 1,\n",
       "       1, 1, 1, 1, 1, 1, 1, 1, 1, 1, 1, 1, 1, 1, 1, 1, 1, 1, 1, 1, 1, 1, 1,\n",
       "       1, 1, 1, 1, 1, 1, 1, 1, 1, 1, 1, 1, 1, 1, 1, 1, 1, 1, 1, 1, 1, 1, 1,\n",
       "       1, 1, 1, 1, 1, 1, 1, 1, 1, 1, 1, 1, 1, 1, 1, 1, 1, 1, 1, 1, 1, 1, 1,\n",
       "       1, 1, 1, 1, 1, 1, 1, 1, 1, 1, 1, 1, 1, 1, 1, 1, 1, 1, 1, 1, 1, 1, 1,\n",
       "       1, 1, 1, 1, 1, 1, 1, 1], dtype=object)"
      ]
     },
     "execution_count": 9,
     "metadata": {},
     "output_type": "execute_result"
    }
   ],
   "source": [
    "data[:,30]"
   ]
  },
  {
   "cell_type": "code",
   "execution_count": null,
   "metadata": {
    "collapsed": true
   },
   "outputs": [],
   "source": []
  },
  {
   "cell_type": "code",
   "execution_count": 10,
   "metadata": {
    "collapsed": false,
    "scrolled": true
   },
   "outputs": [
    {
     "data": {
      "text/plain": [
       "array([   37.94,    39.95,    39.95,    39.95,    41.95,    41.95,\n",
       "          41.95,    44.95,    44.95,    49.96,    49.99,    51.95,\n",
       "          52.96,    56.95,    58.96,    61.95,    69.95,    72.95,\n",
       "          76.95,    78.95,    78.95,    83.95,    84.95,    89.95,\n",
       "          89.95,    92.95,    92.95,    92.95,    94.96,    94.96,\n",
       "          96.95,    99.95,    99.95,   104.95,   109.95,   109.96,\n",
       "         119.95,   129.95,   129.95,   134.95,   134.95,   138.95,\n",
       "         139.96,   139.99,   143.95,   144.95,   144.95,   149.95,\n",
       "         149.95,   154.96,   154.96,   158.95,   159.95,   159.95,\n",
       "         159.95,   159.95,   159.95,   164.95,   168.95,   169.96,\n",
       "         169.96,   169.96,   169.96,   174.95,   175.96,   179.95,\n",
       "         184.96,   184.96,   187.96,   189.95,   189.95,   194.95,\n",
       "         199.96,   199.96,   199.96,   207.95,   212.95,   214.96,\n",
       "         214.96,   216.95,   219.95,   219.95,   219.95,   224.95,\n",
       "         229.96,   229.96,   234.95,   249.95,   259.96,   264.95,\n",
       "         269.95,   274.96,   274.96,   274.96,   274.96,   279.95,\n",
       "         279.95,   289.96,   299.95,   312.95,   314.95,   334.96,\n",
       "         334.96,   339.95,   339.95,   339.95,   339.95,   339.95,\n",
       "         349.95,   349.96,   349.96,   349.96,   349.96,   349.96,\n",
       "         349.96,   354.95,   359.95,   362.95,   364.96,   364.96,\n",
       "         367.96,   369.95,   377.95,   379.96,   379.96,   379.96,\n",
       "         379.96,   389.95,   389.95,   389.95,   399.95,   399.95,\n",
       "         399.95,   399.95,   399.95,   419.95,   429.95,   429.95,\n",
       "         429.95,   439.96,   439.96,   449.95,   449.95,   459.95,\n",
       "         459.95,   469.96,   469.96,   479.95,   489.95,   499.96,\n",
       "         519.95,   529.96,   529.96,   534.95,   539.95,   539.95,\n",
       "         544.96,   549.95,   549.95,   549.95,   549.95,   554.95,\n",
       "         564.95,   564.95,   568.96,   569.95,   574.96,   579.95,\n",
       "         579.95,   579.95,   589.96,   594.95,   599.95,   609.95,\n",
       "         614.95,   619.96,   619.96,   624.95,   629.95,   634.96,\n",
       "         639.95,   639.95,   649.96,   649.96,   649.96,   649.96,\n",
       "         649.96,   659.95,   669.95,   689.95,   689.95,   689.95,\n",
       "         699.95,   699.95,   699.95,   699.95,   699.95,   704.95,\n",
       "         729.95,   739.96,   749.95,   779.95,   789.95,   859.96,\n",
       "         864.95,   879.95,   899.95,   899.95,   899.95,   899.95,\n",
       "         899.95,   899.95,   929.95,   939.95,   959.95,   969.95,\n",
       "         979.96,   979.96,   989.95,   989.95,   999.95,   999.95,\n",
       "         999.95,   999.95,   999.95,   999.95,   999.95,  1019.95,\n",
       "        1019.95,  1019.95,  1029.95,  1029.95,  1039.96,  1052.95,\n",
       "        1079.95,  1079.95,  1099.96,  1099.96])"
      ]
     },
     "execution_count": 10,
     "metadata": {},
     "output_type": "execute_result"
    }
   ],
   "source": [
    "y"
   ]
  },
  {
   "cell_type": "code",
   "execution_count": 11,
   "metadata": {
    "collapsed": false
   },
   "outputs": [
    {
     "data": {
      "text/plain": [
       "238"
      ]
     },
     "execution_count": 11,
     "metadata": {},
     "output_type": "execute_result"
    }
   ],
   "source": [
    "y.size"
   ]
  },
  {
   "cell_type": "code",
   "execution_count": 12,
   "metadata": {
    "collapsed": false
   },
   "outputs": [
    {
     "data": {
      "text/plain": [
       "(238,)"
      ]
     },
     "execution_count": 12,
     "metadata": {},
     "output_type": "execute_result"
    }
   ],
   "source": [
    "y.shape #vecteur de longueur 238, labels de \"data\""
   ]
  },
  {
   "cell_type": "code",
   "execution_count": 13,
   "metadata": {
    "collapsed": true
   },
   "outputs": [],
   "source": [
    "m = data.shape[0]"
   ]
  },
  {
   "cell_type": "code",
   "execution_count": 14,
   "metadata": {
    "collapsed": true
   },
   "outputs": [],
   "source": [
    "n = data.shape[1]"
   ]
  },
  {
   "cell_type": "code",
   "execution_count": 15,
   "metadata": {
    "collapsed": false
   },
   "outputs": [
    {
     "data": {
      "text/plain": [
       "238"
      ]
     },
     "execution_count": 15,
     "metadata": {},
     "output_type": "execute_result"
    }
   ],
   "source": [
    "m"
   ]
  },
  {
   "cell_type": "markdown",
   "metadata": {},
   "source": [
    " "
   ]
  },
  {
   "cell_type": "markdown",
   "metadata": {},
   "source": [
    "Ajouter le biai dans les variables."
   ]
  },
  {
   "cell_type": "code",
   "execution_count": 16,
   "metadata": {
    "collapsed": false
   },
   "outputs": [],
   "source": [
    "data_biai = np.hstack([data,np.ones((m,1))])"
   ]
  },
  {
   "cell_type": "code",
   "execution_count": 17,
   "metadata": {
    "collapsed": false
   },
   "outputs": [
    {
     "data": {
      "text/plain": [
       "array([[625.0, 1.0, 64, ..., 0, 0.0, 1.0],\n",
       "       [625.0, 1.0, 64, ..., 0, 0.0, 1.0],\n",
       "       [954.0, 1.0, 64, ..., 1, 0.0, 1.0],\n",
       "       ..., \n",
       "       [1406.0, 8.0, 2048, ..., 1, 271.0, 1.0],\n",
       "       [1582.0, 11.0, 352, ..., 1, 113.0, 1.0],\n",
       "       [1423.0, 8.0, 2048, ..., 1, 188.0, 1.0]], dtype=object)"
      ]
     },
     "execution_count": 17,
     "metadata": {},
     "output_type": "execute_result"
    }
   ],
   "source": [
    "data_biai"
   ]
  },
  {
   "cell_type": "markdown",
   "metadata": {},
   "source": [
    " "
   ]
  },
  {
   "cell_type": "code",
   "execution_count": 18,
   "metadata": {
    "collapsed": false
   },
   "outputs": [
    {
     "data": {
      "text/plain": [
       "(238, 33)"
      ]
     },
     "execution_count": 18,
     "metadata": {},
     "output_type": "execute_result"
    }
   ],
   "source": [
    "data_biai.shape"
   ]
  },
  {
   "cell_type": "code",
   "execution_count": 19,
   "metadata": {
    "collapsed": true
   },
   "outputs": [],
   "source": [
    "n+=1"
   ]
  },
  {
   "cell_type": "markdown",
   "metadata": {},
   "source": [
    " "
   ]
  },
  {
   "cell_type": "markdown",
   "metadata": {},
   "source": [
    "Définir le modèle (regression linéaire)"
   ]
  },
  {
   "cell_type": "code",
   "execution_count": 20,
   "metadata": {
    "collapsed": true
   },
   "outputs": [],
   "source": [
    "theta = np.random.random(n)"
   ]
  },
  {
   "cell_type": "code",
   "execution_count": 21,
   "metadata": {
    "collapsed": false
   },
   "outputs": [
    {
     "data": {
      "text/plain": [
       "33"
      ]
     },
     "execution_count": 21,
     "metadata": {},
     "output_type": "execute_result"
    }
   ],
   "source": [
    "theta.size"
   ]
  },
  {
   "cell_type": "code",
   "execution_count": 22,
   "metadata": {
    "collapsed": true
   },
   "outputs": [],
   "source": [
    "def model(x,theta2):\n",
    "    y_chap=np.dot(x,theta2)\n",
    "    return(y_chap)"
   ]
  },
  {
   "cell_type": "code",
   "execution_count": 23,
   "metadata": {
    "collapsed": false,
    "scrolled": false
   },
   "outputs": [
    {
     "data": {
      "text/plain": [
       "(238,)"
      ]
     },
     "execution_count": 23,
     "metadata": {},
     "output_type": "execute_result"
    }
   ],
   "source": [
    "y_chap = model(data_biai,theta)\n",
    "y_chap.shape"
   ]
  },
  {
   "cell_type": "code",
   "execution_count": null,
   "metadata": {
    "collapsed": false
   },
   "outputs": [],
   "source": []
  },
  {
   "cell_type": "markdown",
   "metadata": {},
   "source": [
    " "
   ]
  },
  {
   "cell_type": "markdown",
   "metadata": {},
   "source": [
    "descente de gradient"
   ]
  },
  {
   "cell_type": "code",
   "execution_count": 24,
   "metadata": {
    "collapsed": false
   },
   "outputs": [],
   "source": [
    "def cout(y2,x,theta2):\n",
    "    mc = sum((model(x,theta2)-y2)**2)/(2*len(y2))\n",
    "    return(mc)"
   ]
  },
  {
   "cell_type": "code",
   "execution_count": 25,
   "metadata": {
    "collapsed": false
   },
   "outputs": [
    {
     "data": {
      "text/plain": [
       "19242127.33031228"
      ]
     },
     "execution_count": 25,
     "metadata": {},
     "output_type": "execute_result"
    }
   ],
   "source": [
    "cout(y,data_biai,theta)"
   ]
  },
  {
   "cell_type": "markdown",
   "metadata": {},
   "source": [
    "notre fonction de coût: \n",
    "\n",
    "$ Fc(\\theta) = \\frac{1}{2m}\\sum_{i=1}^{m} (y_i - \\hat{y}_i)^2 $\n",
    "\n",
    "avec $\\hat{y}_i = \\sum_j\\theta_{i,j} x_{i,j}$ le coût calculé pour la i-ème ligne.\n",
    "\n",
    "\n",
    "On a les dérivées partielles : $\\frac{d}{d\\theta_j}Fc(\\theta) = \\frac{1}{m}\\sum_{i = 1}^{m}(y_i - \\hat{y}_i)x_{i,j}$"
   ]
  },
  {
   "cell_type": "code",
   "execution_count": 26,
   "metadata": {
    "collapsed": false
   },
   "outputs": [],
   "source": [
    "def df(y2,x,theta2):\n",
    "    d = np.dot((model(x,theta2)-y2),x)/len(y2)\n",
    "    return(d)"
   ]
  },
  {
   "cell_type": "code",
   "execution_count": 27,
   "metadata": {
    "collapsed": false
   },
   "outputs": [
    {
     "data": {
      "text/plain": [
       "array([7318633.078602442, 35576.807633489654, 1631444.4117673158,\n",
       "       30069874.77476395, 11304323.897699663, 3804.907358358998,\n",
       "       883314.1445574659, 75.57936697948536, 1136.8533405094588,\n",
       "       1116.7974930876676, 298.5930417492391, 1249.6970823588433,\n",
       "       586.1808229913096, 11.635648844589927, 505.282285100246,\n",
       "       1121.5876137154228, 3859.0314679054177, 1066.9932927540692,\n",
       "       3913.6257888667706, 84.06106385072, 34.63026514416068,\n",
       "       4861.927752625959, 56.91045141750027, 8.358769628852768,\n",
       "       2591.299340592427, 23.838504615763423, 11.443211428044584,\n",
       "       2059.9566254482575, 228.81217848999268, 60.19162263711321,\n",
       "       4920.427458983727, 631030.9314587495, 4980.619081620839], dtype=object)"
      ]
     },
     "execution_count": 27,
     "metadata": {},
     "output_type": "execute_result"
    }
   ],
   "source": [
    "df(y,data_biai,theta)"
   ]
  },
  {
   "cell_type": "markdown",
   "metadata": {},
   "source": [
    "descente"
   ]
  },
  {
   "cell_type": "code",
   "execution_count": 62,
   "metadata": {
    "collapsed": false
   },
   "outputs": [],
   "source": [
    "alpha = 10**(-9)\n",
    "eps = 0.00001\n",
    "cout1 = 2\n",
    "cout2 = 1\n",
    "theta = np.random.random(n)\n",
    "histo = []"
   ]
  },
  {
   "cell_type": "code",
   "execution_count": 63,
   "metadata": {
    "collapsed": false
   },
   "outputs": [],
   "source": [
    "while np.abs(cout1-cout2)/cout2>eps:\n",
    "    theta  = theta -alpha*df(y,data_biai,theta)\n",
    "    cout1 = cout2\n",
    "    cout2 = cout(y,data_biai,theta)\n",
    "    histo.append(cout2)"
   ]
  },
  {
   "cell_type": "code",
   "execution_count": 64,
   "metadata": {
    "collapsed": false
   },
   "outputs": [
    {
     "name": "stdout",
     "output_type": "stream",
     "text": [
      "[-0.006710428078374474 0.5677462034553671 -0.015570925352366047\n",
      " 0.004793121482827854 0.2518349159045823 0.7902617938973776\n",
      " -0.041773450532155657 0.8281522578859051 0.20501699673110516\n",
      " 0.057172788111755246 0.9861142745341215 0.9476272072729511\n",
      " 0.43335792863308986 0.5060116066234416 0.6977520131262923\n",
      " 0.845936068575907 0.1354819732019957 0.6093226504643551\n",
      " 0.45227934440033785 0.2824498621949677 0.8836256424750214\n",
      " 0.4684874000211194 0.4487376544300031 0.3066943840578734\n",
      " 0.7176023773148211 0.6983982809665141 0.8422918315089915\n",
      " 0.9886450804191602 0.12711633186166651 0.8618677897404082\n",
      " 0.4015938526631678 0.024136543380046914 0.7138922523014462]\n",
      "2676.598375490846\n",
      "2676.571616272738\n"
     ]
    }
   ],
   "source": [
    "print(theta)\n",
    "print(cout1)\n",
    "print(cout2)"
   ]
  },
  {
   "cell_type": "code",
   "execution_count": 65,
   "metadata": {
    "collapsed": false
   },
   "outputs": [
    {
     "data": {
      "image/png": "[encoded data removed]",
      "text/plain": [
       "<matplotlib.figure.Figure at 0x174a230>"
      ]
     },
     "metadata": {},
     "output_type": "display_data"
    }
   ],
   "source": [
    "fig, ax = plt.subplots(figsize=(16,8))\n",
    "plt.plot(range(201,len(histo)+1),histo[200:])\n",
    "plt.ylabel(\"coût\")\n",
    "plt.xlabel(\"itérations\")\n",
    "plt.show()"
   ]
  },
  {
   "cell_type": "code",
   "execution_count": 66,
   "metadata": {
    "collapsed": false
   },
   "outputs": [
    {
     "data": {
      "text/plain": [
       "2676.571616272738"
      ]
     },
     "execution_count": 66,
     "metadata": {},
     "output_type": "execute_result"
    }
   ],
   "source": [
    "cout2"
   ]
  },
  {
   "cell_type": "code",
   "execution_count": null,
   "metadata": {
    "collapsed": true
   },
   "outputs": [],
   "source": []
  }
 ],
 "metadata": {
  "kernelspec": {
   "display_name": "Python 3",
   "language": "python",
   "name": "python3"
  },
  "language_info": {
   "codemirror_mode": {
    "name": "ipython",
    "version": 3
   },
   "file_extension": ".py",
   "mimetype": "text/x-python",
   "name": "python",
   "nbconvert_exporter": "python",
   "pygments_lexer": "ipython3",
   "version": "3.6.0"
  }
 },
 "nbformat": 4,
 "nbformat_minor": 2
}
